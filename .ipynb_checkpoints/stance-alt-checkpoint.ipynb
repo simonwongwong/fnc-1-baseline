{
 "cells": [
  {
   "cell_type": "code",
   "execution_count": 3,
   "id": "64154fc6-e3b7-49c7-8d1f-e4f780c8a970",
   "metadata": {},
   "outputs": [],
   "source": [
    "import gensim.downloader as api\n",
    "wv = api.load('word2vec-google-news-300')"
   ]
  },
  {
   "cell_type": "code",
   "execution_count": 2,
   "id": "1253dd1b-660d-4dc6-a83d-2c28fbd0aacd",
   "metadata": {},
   "outputs": [],
   "source": [
    "import numpy as np\n",
    "\n",
    "import pandas as pd\n",
    "from utils.dataset import DataSet\n",
    "from utils.generate_test_splits import generate_hold_out_split, read_ids"
   ]
  },
  {
   "cell_type": "code",
   "execution_count": 3,
   "id": "33c129e9-81ce-41c7-9b39-f32ddbd45702",
   "metadata": {},
   "outputs": [
    {
     "name": "stdout",
     "output_type": "stream",
     "text": [
      "Reading dataset\n",
      "Total stances: 49972\n",
      "Total bodies: 1683\n"
     ]
    }
   ],
   "source": [
    "d = DataSet()\n",
    "generate_hold_out_split(d)\n",
    "trainID = set(read_ids(\"training_ids.txt\", \"splits\"))\n",
    "valID = set(read_ids(\"hold_out_ids.txt\", \"splits\"))"
   ]
  },
  {
   "cell_type": "markdown",
   "id": "218d497e-a281-483e-919d-f7de19848b76",
   "metadata": {},
   "source": [
    "# Hyperparams"
   ]
  },
  {
   "cell_type": "code",
   "execution_count": 4,
   "id": "ddbb7929-7d1b-4d19-bb39-44616297ea7c",
   "metadata": {},
   "outputs": [],
   "source": [
    "MAX_SENT_PER_ART = 20\n",
    "MAX_SENT_LEN = 30\n",
    "MAX_VOCAB = 20000"
   ]
  },
  {
   "cell_type": "markdown",
   "id": "bde4bb2d-2708-47a7-973a-01e5fcc8a90d",
   "metadata": {},
   "source": [
    "# Set up training and validation data"
   ]
  },
  {
   "cell_type": "code",
   "execution_count": 5,
   "id": "7b760b24-8e38-448d-907d-7af8f556427e",
   "metadata": {},
   "outputs": [],
   "source": [
    "train_stances = [stance for stance in d.stances if stance['Body ID'] in trainID]\n",
    "train_headlines = [stance['Headline'] for stance in train_stances]\n",
    "train_labels = [stance['Stance'] for stance in train_stances]\n",
    "train_body = [d.articles[stance['Body ID']] for stance in train_stances]\n",
    "\n",
    "val_stances = [stance for stance in d.stances if stance['Body ID'] in valID]\n",
    "val_headlines = [stance['Headline'] for stance in val_stances]\n",
    "val_labels = [stance['Stance'] for stance in val_stances]\n",
    "val_body = [d.articles[stance['Body ID']] for stance in val_stances]"
   ]
  },
  {
   "cell_type": "markdown",
   "id": "65809091-a13b-4e7d-8a32-868df58d08fe",
   "metadata": {},
   "source": [
    "# Vectorization and Tokenization"
   ]
  },
  {
   "cell_type": "code",
   "execution_count": 17,
   "id": "1f886d5d-b75e-4002-8963-15d94f9b5456",
   "metadata": {},
   "outputs": [],
   "source": [
    "from keras.preprocessing.text import Tokenizer \n",
    "tokenizer = Tokenizer(num_words=MAX_VOCAB)\n",
    "tokenizer.fit_on_texts(train_body)\n",
    "tokenizer.fit_on_texts(train_headlines)\n",
    "\n",
    "from nltk import tokenize\n",
    "\n",
    "sent_tok_art = []\n",
    "for article in train_body:\n",
    "    sent_tok_art.append(tokenize.sent_tokenize(article))\n",
    "\n",
    "vsent_tok_art = []\n",
    "for article in val_body:\n",
    "    vsent_tok_art.append(tokenize.sent_tokenize(article))\n",
    "\n",
    "from keras.preprocessing.text import text_to_word_sequence\n",
    "\n",
    "X_train = np.zeros((len(train_stances), MAX_SENT_PER_ART, MAX_SENT_LEN), dtype='int32')\n",
    "\n",
    "for i, article in enumerate(sent_tok_art):\n",
    "    for j, sentence in enumerate(article[:MAX_SENT_PER_ART]):\n",
    "        words = text_to_word_sequence(sentence)\n",
    "        for k, word in enumerate(words[:MAX_SENT_LEN]):\n",
    "            X_train[i][j][k] = tokenizer.word_index[word]"
   ]
  },
  {
   "cell_type": "code",
   "execution_count": 19,
   "id": "fb6776ca-caf6-4d2e-acf5-ef6561aa9c00",
   "metadata": {},
   "outputs": [
    {
     "data": {
      "text/plain": [
       "array([[ 1018,     4,  8323,    35,  6624,    22,    53,  1649,   423,\n",
       "          479,    34,   570,   443,  1057,     3,   291,     4,  4218,\n",
       "          156,     1,   138,  7268,     1,  2350,  2217,     5,     1,\n",
       "         9844,     4,     3],\n",
       "       [    1,  2350,   619,     4,  2591,    12,     5,     3,   190,\n",
       "            7,  1183,  1198,   825,     6,  3765,    22,     1,   619,\n",
       "            4,   224,  1517,    30,  6624,    50,   103,  2868,  2118,\n",
       "           22,   289,  3039],\n",
       "       [ 2350,    21,  3158,  7268,     5,   320,   212,  1665,     3,\n",
       "          720,  3738,     7,   569,  8184,  2725,     6, 19864,  4352,\n",
       "         8149,   181,     0,     0,     0,     0,     0,     0,     0,\n",
       "            0,     0,     0],\n",
       "       [    1,  3738,  5777,   768,     6,   741, 19865,    11,  4631,\n",
       "            4,   765,   162,   171,     4,     1,  4675,  7634,   144,\n",
       "         8323,   188,   828,    19, 12176,   886,    74,  1631,     0,\n",
       "            0,     0,     0],\n",
       "       [    1,   873,     8, 15377,    19,     1,   404,     7,   930,\n",
       "           21,  2535,     3,  2106,  5174,    74,  2350,    11,     1,\n",
       "           83,  1379,   133,  4169, 13956,  6548,     6,     1,  5517,\n",
       "            4,  3267,    11],\n",
       "       [   15,    21,    57,  4219,     1,  5777,    22, 19867,    53,\n",
       "         1649,    18,  4832,  3425,    27,  2480,  2192,    22,  2532,\n",
       "            0,     0,     0,     0,     0,     0,     0,     0,     0,\n",
       "            0,     0,     0],\n",
       "       [ 2350,  1183,  1198,   825,   313,  5616,    71, 18590,  2061,\n",
       "            7,   439,  3298,    73,    23,   741,    64,   930,  6706,\n",
       "           48,    50,  4218,     5,     1,   324,  4568,     7,   611,\n",
       "            8,   633,  3346],\n",
       "       [ 6624,  2118,    17,    26,  1121,     2, 10861, 15378,    19,\n",
       "        17951,     1,   246,   552,    11,  5240,  2974,     5,    71,\n",
       "        17952,  5617,  3026,     6,     5,    71, 17953,  7601,     5,\n",
       "            1,   868,  2350],\n",
       "       [    1,  2350,  2217,  9634,  2350,     8,     3, 18591,  1945,\n",
       "            5,     1,   868,  2350,  3201,   344,    71, 18592,  5617,\n",
       "         3026,     6,    71, 18593,     0,     0,     0,     0,     0,\n",
       "            0,     0,     0],\n",
       "       [   15,     8,   298, 19868,     5,  8030,     6,    15,  9635,\n",
       "           22,    92, 16794,    39,   476,   221,  2781,    22,   156,\n",
       "        18594,     6,     1,   100,    22,   156, 18595,     0,     0,\n",
       "            0,     0,     0],\n",
       "       [  570,  4218,    10,     1,  3441,     2,  7408, 19869,    17,\n",
       "        15077,    48,     1, 13220,   267,  2350,     6,  2449,     1,\n",
       "          130,   221,     4,  2754,   611,     5,     1,   324,     0,\n",
       "            0,     0,     0],\n",
       "       [ 1530,    17,   685,     2,   310,    15,     2, 19870,     4,\n",
       "           53,  5778,    11,  1476,     4,   100,  2007,     2,   127,\n",
       "           82,   193,  3934,    24, 11553, 19871,     0,     0,     0,\n",
       "            0,     0,     0],\n",
       "       [   32,     8,    25,     1,    85,    72,   570,   443,    17,\n",
       "         1057,     1,  2350,  2217,  4218,     0,     0,     0,     0,\n",
       "            0,     0,     0,     0,     0,     0,     0,     0,     0,\n",
       "            0,     0,     0],\n",
       "       [    5,  2670,   461,   570,   443,    57,  1057,     1,  4218,\n",
       "         1665,  1342,  7268,     5,     1,  2350,  3201,     0,     0,\n",
       "            0,     0,     0,     0,     0,     0,     0,     0,     0,\n",
       "            0,     0,     0],\n",
       "       [    1,  7192,  6828,  3219,   768,     4,  1649,     6,   214,\n",
       "          171,  2118,     5,     1,   324,    22,    53,  1649,     0,\n",
       "            0,     0,     0,     0,     0,     0,     0,     0,     0,\n",
       "            0,     0,     0],\n",
       "       [    5,  1474,     1,  4218,    35,  1057,    18,   201,  5518,\n",
       "          615,  2118,    22,    53,  1649,     0,     0,     0,     0,\n",
       "            0,     0,     0,     0,     0,     0,     0,     0,     0,\n",
       "            0,     0,     0],\n",
       "       [   20,     1,    72,  1183,  1198,   825,    12,     7,    33,\n",
       "           30,  1066,     2,  1512,   805,    59,    31,    30,    26,\n",
       "           20,  1338,     4,  7715,     0,     0,     0,     0,     0,\n",
       "            0,     0,     0],\n",
       "       [    0,     0,     0,     0,     0,     0,     0,     0,     0,\n",
       "            0,     0,     0,     0,     0,     0,     0,     0,     0,\n",
       "            0,     0,     0,     0,     0,     0,     0,     0,     0,\n",
       "            0,     0,     0],\n",
       "       [    0,     0,     0,     0,     0,     0,     0,     0,     0,\n",
       "            0,     0,     0,     0,     0,     0,     0,     0,     0,\n",
       "            0,     0,     0,     0,     0,     0,     0,     0,     0,\n",
       "            0,     0,     0],\n",
       "       [    0,     0,     0,     0,     0,     0,     0,     0,     0,\n",
       "            0,     0,     0,     0,     0,     0,     0,     0,     0,\n",
       "            0,     0,     0,     0,     0,     0,     0,     0,     0,\n",
       "            0,     0,     0]], dtype=int32)"
      ]
     },
     "execution_count": 19,
     "metadata": {},
     "output_type": "execute_result"
    }
   ],
   "source": [
    "X_train[0, :, :]"
   ]
  }
 ],
 "metadata": {
  "kernelspec": {
   "display_name": "Python 3",
   "language": "python",
   "name": "python3"
  },
  "language_info": {
   "codemirror_mode": {
    "name": "ipython",
    "version": 3
   },
   "file_extension": ".py",
   "mimetype": "text/x-python",
   "name": "python",
   "nbconvert_exporter": "python",
   "pygments_lexer": "ipython3",
   "version": "3.7.10"
  }
 },
 "nbformat": 4,
 "nbformat_minor": 5
}
